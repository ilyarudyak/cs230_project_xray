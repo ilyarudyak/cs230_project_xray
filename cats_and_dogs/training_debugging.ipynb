{
 "cells": [
  {
   "cell_type": "code",
   "execution_count": 2,
   "metadata": {},
   "outputs": [
    {
     "name": "stdout",
     "output_type": "stream",
     "text": [
      "The autoreload extension is already loaded. To reload it, use:\n",
      "  %reload_ext autoreload\n"
     ]
    }
   ],
   "source": [
    "from trainer import CatDogTrainer\n",
    "\n",
    "%load_ext autoreload\n",
    "%autoreload 2"
   ]
  },
  {
   "cell_type": "markdown",
   "metadata": {},
   "source": [
    "# 1 - original training"
   ]
  },
  {
   "cell_type": "markdown",
   "metadata": {},
   "source": [
    "Here we train the original model from [here](https://www.tensorflow.org/tutorials/images/transfer_learning). We get very good accuracy on both train and validation sets (more than .9) after just 2-3 epochs."
   ]
  },
  {
   "cell_type": "code",
   "execution_count": 3,
   "metadata": {},
   "outputs": [],
   "source": [
    "trainer = CatDogTrainer(initial_epochs=3, model_type='mobile_net')"
   ]
  },
  {
   "cell_type": "code",
   "execution_count": 4,
   "metadata": {},
   "outputs": [
    {
     "name": "stdout",
     "output_type": "stream",
     "text": [
      "Epoch 1/3\n",
      "582/582 [==============================] - 77s 132ms/step - loss: 2.5899 - accuracy: 0.6847 - val_loss: 0.0000e+00 - val_accuracy: 0.0000e+00\n",
      "Epoch 2/3\n",
      "582/582 [==============================] - 39s 66ms/step - loss: 1.4116 - accuracy: 0.8271 - val_loss: 0.9865 - val_accuracy: 0.8871\n",
      "Epoch 3/3\n",
      "582/582 [==============================] - 39s 67ms/step - loss: 0.9741 - accuracy: 0.8763 - val_loss: 0.7353 - val_accuracy: 0.9181\n"
     ]
    }
   ],
   "source": [
    "trainer.train()"
   ]
  },
  {
   "cell_type": "markdown",
   "metadata": {},
   "source": [
    "# 2 - resnet"
   ]
  },
  {
   "cell_type": "markdown",
   "metadata": {},
   "source": [
    "Let's now change `MobileNetV2` to `resnet50` without changing anything else. Result are not bad for validation set but for some reason train accuracy is below than validation accuracy."
   ]
  },
  {
   "cell_type": "code",
   "execution_count": 5,
   "metadata": {},
   "outputs": [
    {
     "name": "stdout",
     "output_type": "stream",
     "text": [
      "Downloading data from https://github.com/keras-team/keras-applications/releases/download/resnet/resnet50v2_weights_tf_dim_ordering_tf_kernels_notop.h5\n",
      "94674944/94668760 [==============================] - 1s 0us/step\n"
     ]
    }
   ],
   "source": [
    "trainer = CatDogTrainer(initial_epochs=3, model_type='resnet50')"
   ]
  },
  {
   "cell_type": "code",
   "execution_count": 6,
   "metadata": {},
   "outputs": [
    {
     "name": "stdout",
     "output_type": "stream",
     "text": [
      "Epoch 1/3\n",
      "582/582 [==============================] - 59s 102ms/step - loss: 2.4497 - accuracy: 0.6938 - val_loss: 0.0000e+00 - val_accuracy: 0.0000e+00\n",
      "Epoch 2/3\n",
      "582/582 [==============================] - 53s 91ms/step - loss: 1.3165 - accuracy: 0.8233 - val_loss: 0.6755 - val_accuracy: 0.9427\n",
      "Epoch 3/3\n",
      "582/582 [==============================] - 53s 91ms/step - loss: 1.0544 - accuracy: 0.8525 - val_loss: 0.5614 - val_accuracy: 0.9509\n"
     ]
    }
   ],
   "source": [
    "trainer.train()"
   ]
  },
  {
   "cell_type": "code",
   "execution_count": null,
   "metadata": {},
   "outputs": [],
   "source": []
  },
  {
   "cell_type": "code",
   "execution_count": null,
   "metadata": {},
   "outputs": [],
   "source": []
  },
  {
   "cell_type": "code",
   "execution_count": null,
   "metadata": {},
   "outputs": [],
   "source": []
  },
  {
   "cell_type": "code",
   "execution_count": null,
   "metadata": {},
   "outputs": [],
   "source": []
  }
 ],
 "metadata": {
  "kernelspec": {
   "display_name": "Python 3",
   "language": "python",
   "name": "python3"
  },
  "language_info": {
   "codemirror_mode": {
    "name": "ipython",
    "version": 3
   },
   "file_extension": ".py",
   "mimetype": "text/x-python",
   "name": "python",
   "nbconvert_exporter": "python",
   "pygments_lexer": "ipython3",
   "version": "3.6.8"
  }
 },
 "nbformat": 4,
 "nbformat_minor": 2
}
